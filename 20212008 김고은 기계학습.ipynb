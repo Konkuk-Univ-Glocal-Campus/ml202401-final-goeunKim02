{
 "cells": [
  {
   "cell_type": "markdown",
   "id": "374bcebe",
   "metadata": {},
   "source": [
    "## 프로젝트 개요\n",
    "#### 1. 감성 분석의 기본 이해\n",
    "#### 2. 데이터 전처리\n",
    "#### 3. 모델 선택 및 학습\n",
    "#### 4. 모델 평가\n",
    "#### 5. 시각화 및 해석\n",
    "#### 6. 보고서 작성"
   ]
  },
  {
   "cell_type": "markdown",
   "id": "31f7a12f",
   "metadata": {},
   "source": [
    "## | 1. 감성분석의 기본 이해\n",
    "#### 대량의 텍스트를 분석하여 긍정적인 감정 표현과 부정적인 감정을 판단하는 분석임."
   ]
  },
  {
   "cell_type": "markdown",
   "id": "e3484913",
   "metadata": {},
   "source": [
    "## | 2. 데이터 전처리\n",
    "### 와인 리뷰 데이터의 감성 분석\n",
    "#### 'wine_review.csv'파일을 활용하여 리뷰 속에 담긴 긍정 / 부정 감성을 파악하는 감성 분류 예측 모델 작성 "
   ]
  },
  {
   "cell_type": "markdown",
   "id": "1adab158",
   "metadata": {},
   "source": [
    "### 2.1 필요 Library 및 Data 로드"
   ]
  },
  {
   "cell_type": "code",
   "execution_count": 1,
   "id": "21f781f7",
   "metadata": {},
   "outputs": [],
   "source": [
    "# 사용할 Library 로드\n",
    "\n",
    "import pandas as pd\n",
    "import numpy as np\n",
    "import re\n",
    "from nltk.corpus import stopwords\n",
    "from nltk.tokenize import word_tokenize\n",
    "from nltk.stem import WordNetLemmatizer\n",
    "from sklearn.model_selection import train_test_split\n",
    "from sklearn.feature_extraction.text import TfidfVectorizer\n",
    "from sklearn.naive_bayes import MultinomialNB\n",
    "from sklearn.svm import SVC\n",
    "from sklearn.linear_model import LogisticRegression\n",
    "from sklearn.ensemble import RandomForestClassifier\n",
    "from sklearn.metrics import accuracy_score, precision_score, recall_score, f1_score, roc_auc_score, confusion_matrix, roc_curve, auc\n",
    "import matplotlib.pyplot as plt\n",
    "import seaborn as sns\n",
    "import nltk"
   ]
  },
  {
   "cell_type": "code",
   "execution_count": 2,
   "id": "45d3f5b0",
   "metadata": {},
   "outputs": [],
   "source": [
    "# 데이터 로드\n",
    "df = pd.read_csv(\"wine_review.csv\")"
   ]
  },
  {
   "cell_type": "code",
   "execution_count": 3,
   "id": "20033f00",
   "metadata": {},
   "outputs": [
    {
     "data": {
      "text/html": [
       "<div>\n",
       "<style scoped>\n",
       "    .dataframe tbody tr th:only-of-type {\n",
       "        vertical-align: middle;\n",
       "    }\n",
       "\n",
       "    .dataframe tbody tr th {\n",
       "        vertical-align: top;\n",
       "    }\n",
       "\n",
       "    .dataframe thead th {\n",
       "        text-align: right;\n",
       "    }\n",
       "</style>\n",
       "<table border=\"1\" class=\"dataframe\">\n",
       "  <thead>\n",
       "    <tr style=\"text-align: right;\">\n",
       "      <th></th>\n",
       "      <th>id</th>\n",
       "      <th>asins</th>\n",
       "      <th>brand</th>\n",
       "      <th>categories</th>\n",
       "      <th>dateAdded</th>\n",
       "      <th>dateUpdated</th>\n",
       "      <th>descriptions</th>\n",
       "      <th>dimension</th>\n",
       "      <th>ean</th>\n",
       "      <th>flavors</th>\n",
       "      <th>...</th>\n",
       "      <th>reviews.sourceURLs</th>\n",
       "      <th>reviews.text</th>\n",
       "      <th>reviews.title</th>\n",
       "      <th>reviews.userCity</th>\n",
       "      <th>reviews.userProvince</th>\n",
       "      <th>reviews.username</th>\n",
       "      <th>sizes</th>\n",
       "      <th>sourceURLs</th>\n",
       "      <th>upc</th>\n",
       "      <th>weight</th>\n",
       "    </tr>\n",
       "  </thead>\n",
       "  <tbody>\n",
       "    <tr>\n",
       "      <th>0</th>\n",
       "      <td>AV13ClKCGV-KLJ3akN68</td>\n",
       "      <td>NaN</td>\n",
       "      <td>Gallo</td>\n",
       "      <td>Food &amp; Beverage,Beverages,Wine, Beer &amp; Liquor,...</td>\n",
       "      <td>2017-07-24T23:59:11Z</td>\n",
       "      <td>2018-01-10T18:06:28Z</td>\n",
       "      <td>NaN</td>\n",
       "      <td>1.0 in x 1.0 in x 1.0 in</td>\n",
       "      <td>NaN</td>\n",
       "      <td>NaN</td>\n",
       "      <td>...</td>\n",
       "      <td>https://redsky.target.com/groot-domain-api/v1/...</td>\n",
       "      <td>This a fantastic white wine for any occasion!</td>\n",
       "      <td>My Favorite White Wine</td>\n",
       "      <td>NaN</td>\n",
       "      <td>NaN</td>\n",
       "      <td>Bjh</td>\n",
       "      <td>NaN</td>\n",
       "      <td>http://redsky.target.com/v1/plp/search?kwr=y&amp;c...</td>\n",
       "      <td>4.9213E+11</td>\n",
       "      <td>1.0 lbs</td>\n",
       "    </tr>\n",
       "    <tr>\n",
       "      <th>1</th>\n",
       "      <td>AV13CsvW-jtxr-f38AQO</td>\n",
       "      <td>NaN</td>\n",
       "      <td>Fresh Craft Co.</td>\n",
       "      <td>Food &amp; Beverage,Beverages,Wine, Beer &amp; Liquor,...</td>\n",
       "      <td>2017-07-24T23:59:42Z</td>\n",
       "      <td>2018-01-10T05:38:33Z</td>\n",
       "      <td>[{\"dateSeen\":[\"2017-12-21T05:43:00.000Z\",\"2017...</td>\n",
       "      <td>4.25 in x 4.25 in x 5.25 in</td>\n",
       "      <td>NaN</td>\n",
       "      <td>NaN</td>\n",
       "      <td>...</td>\n",
       "      <td>https://redsky.target.com/groot-domain-api/v1/...</td>\n",
       "      <td>Tart, not sweet...very refreshing and delicious!</td>\n",
       "      <td>Yum!!</td>\n",
       "      <td>NaN</td>\n",
       "      <td>NaN</td>\n",
       "      <td>Wino</td>\n",
       "      <td>NaN</td>\n",
       "      <td>http://redsky.target.com/v1/plp/search?kwr=y&amp;c...</td>\n",
       "      <td>83120003441</td>\n",
       "      <td>2.45 lbs</td>\n",
       "    </tr>\n",
       "    <tr>\n",
       "      <th>2</th>\n",
       "      <td>AV13CVI_glJLPUi8O7Po</td>\n",
       "      <td>NaN</td>\n",
       "      <td>1000 Stories</td>\n",
       "      <td>Food &amp; Beverage,Beverages,Wine, Beer &amp; Liquor,...</td>\n",
       "      <td>2017-07-24T23:58:05Z</td>\n",
       "      <td>2018-01-10T05:38:31Z</td>\n",
       "      <td>NaN</td>\n",
       "      <td>3.3 in x 3.3 in x 11.79 in</td>\n",
       "      <td>NaN</td>\n",
       "      <td>NaN</td>\n",
       "      <td>...</td>\n",
       "      <td>https://redsky.target.com/groot-domain-api/v1/...</td>\n",
       "      <td>I was given this wine so it was a delightful s...</td>\n",
       "      <td>A New Favorite!</td>\n",
       "      <td>NaN</td>\n",
       "      <td>NaN</td>\n",
       "      <td>Bama Mom</td>\n",
       "      <td>NaN</td>\n",
       "      <td>http://redsky.target.com/v1/plp/search?kwr=y&amp;c...</td>\n",
       "      <td>82896001453</td>\n",
       "      <td>3.09 lbs</td>\n",
       "    </tr>\n",
       "    <tr>\n",
       "      <th>3</th>\n",
       "      <td>AV13CVI_glJLPUi8O7Po</td>\n",
       "      <td>NaN</td>\n",
       "      <td>1000 Stories</td>\n",
       "      <td>Food &amp; Beverage,Beverages,Wine, Beer &amp; Liquor,...</td>\n",
       "      <td>2017-07-24T23:58:05Z</td>\n",
       "      <td>2018-01-10T05:38:31Z</td>\n",
       "      <td>NaN</td>\n",
       "      <td>3.3 in x 3.3 in x 11.79 in</td>\n",
       "      <td>NaN</td>\n",
       "      <td>NaN</td>\n",
       "      <td>...</td>\n",
       "      <td>https://redsky.target.com/groot-domain-api/v1/...</td>\n",
       "      <td>This is a phenomenal wine and my new favorite ...</td>\n",
       "      <td>Bold, Flavorful, Aromatic, Delicious</td>\n",
       "      <td>NaN</td>\n",
       "      <td>NaN</td>\n",
       "      <td>Av Dub</td>\n",
       "      <td>NaN</td>\n",
       "      <td>http://redsky.target.com/v1/plp/search?kwr=y&amp;c...</td>\n",
       "      <td>82896001453</td>\n",
       "      <td>3.09 lbs</td>\n",
       "    </tr>\n",
       "    <tr>\n",
       "      <th>4</th>\n",
       "      <td>AV13CYL4-jtxr-f37_-t</td>\n",
       "      <td>NaN</td>\n",
       "      <td>Wine Cube153</td>\n",
       "      <td>Food &amp; Beverage,Beverages,Wine, Beer &amp; Liquor,...</td>\n",
       "      <td>2017-07-24T23:58:18Z</td>\n",
       "      <td>2018-01-10T18:06:29Z</td>\n",
       "      <td>[{\"dateSeen\":[\"2017-12-21T05:43:00.000Z\",\"2017...</td>\n",
       "      <td>1.0 in x 1.0 in x 1.0 in</td>\n",
       "      <td>NaN</td>\n",
       "      <td>NaN</td>\n",
       "      <td>...</td>\n",
       "      <td>https://redsky.target.com/groot-domain-api/v1/...</td>\n",
       "      <td>4 750ml bottles for the price of two With way ...</td>\n",
       "      <td>Yum! Plus, Environmentally Friendly!</td>\n",
       "      <td>Overland Park</td>\n",
       "      <td>NaN</td>\n",
       "      <td>Chelseamay</td>\n",
       "      <td>NaN</td>\n",
       "      <td>https://redsky.target.com/groot-domain-api/v1/...</td>\n",
       "      <td>85200600465</td>\n",
       "      <td>1.0 lbs</td>\n",
       "    </tr>\n",
       "  </tbody>\n",
       "</table>\n",
       "<p>5 rows × 32 columns</p>\n",
       "</div>"
      ],
      "text/plain": [
       "                     id asins            brand  \\\n",
       "0  AV13ClKCGV-KLJ3akN68   NaN            Gallo   \n",
       "1  AV13CsvW-jtxr-f38AQO   NaN  Fresh Craft Co.   \n",
       "2  AV13CVI_glJLPUi8O7Po   NaN     1000 Stories   \n",
       "3  AV13CVI_glJLPUi8O7Po   NaN     1000 Stories   \n",
       "4  AV13CYL4-jtxr-f37_-t   NaN     Wine Cube153   \n",
       "\n",
       "                                          categories             dateAdded  \\\n",
       "0  Food & Beverage,Beverages,Wine, Beer & Liquor,...  2017-07-24T23:59:11Z   \n",
       "1  Food & Beverage,Beverages,Wine, Beer & Liquor,...  2017-07-24T23:59:42Z   \n",
       "2  Food & Beverage,Beverages,Wine, Beer & Liquor,...  2017-07-24T23:58:05Z   \n",
       "3  Food & Beverage,Beverages,Wine, Beer & Liquor,...  2017-07-24T23:58:05Z   \n",
       "4  Food & Beverage,Beverages,Wine, Beer & Liquor,...  2017-07-24T23:58:18Z   \n",
       "\n",
       "            dateUpdated                                       descriptions  \\\n",
       "0  2018-01-10T18:06:28Z                                                NaN   \n",
       "1  2018-01-10T05:38:33Z  [{\"dateSeen\":[\"2017-12-21T05:43:00.000Z\",\"2017...   \n",
       "2  2018-01-10T05:38:31Z                                                NaN   \n",
       "3  2018-01-10T05:38:31Z                                                NaN   \n",
       "4  2018-01-10T18:06:29Z  [{\"dateSeen\":[\"2017-12-21T05:43:00.000Z\",\"2017...   \n",
       "\n",
       "                     dimension  ean flavors  ...  \\\n",
       "0     1.0 in x 1.0 in x 1.0 in  NaN     NaN  ...   \n",
       "1  4.25 in x 4.25 in x 5.25 in  NaN     NaN  ...   \n",
       "2   3.3 in x 3.3 in x 11.79 in  NaN     NaN  ...   \n",
       "3   3.3 in x 3.3 in x 11.79 in  NaN     NaN  ...   \n",
       "4     1.0 in x 1.0 in x 1.0 in  NaN     NaN  ...   \n",
       "\n",
       "                                  reviews.sourceURLs  \\\n",
       "0  https://redsky.target.com/groot-domain-api/v1/...   \n",
       "1  https://redsky.target.com/groot-domain-api/v1/...   \n",
       "2  https://redsky.target.com/groot-domain-api/v1/...   \n",
       "3  https://redsky.target.com/groot-domain-api/v1/...   \n",
       "4  https://redsky.target.com/groot-domain-api/v1/...   \n",
       "\n",
       "                                        reviews.text  \\\n",
       "0      This a fantastic white wine for any occasion!   \n",
       "1   Tart, not sweet...very refreshing and delicious!   \n",
       "2  I was given this wine so it was a delightful s...   \n",
       "3  This is a phenomenal wine and my new favorite ...   \n",
       "4  4 750ml bottles for the price of two With way ...   \n",
       "\n",
       "                          reviews.title reviews.userCity reviews.userProvince  \\\n",
       "0                My Favorite White Wine              NaN                  NaN   \n",
       "1                                 Yum!!              NaN                  NaN   \n",
       "2                       A New Favorite!              NaN                  NaN   \n",
       "3  Bold, Flavorful, Aromatic, Delicious              NaN                  NaN   \n",
       "4  Yum! Plus, Environmentally Friendly!    Overland Park                  NaN   \n",
       "\n",
       "  reviews.username sizes                                         sourceURLs  \\\n",
       "0              Bjh   NaN  http://redsky.target.com/v1/plp/search?kwr=y&c...   \n",
       "1             Wino   NaN  http://redsky.target.com/v1/plp/search?kwr=y&c...   \n",
       "2         Bama Mom   NaN  http://redsky.target.com/v1/plp/search?kwr=y&c...   \n",
       "3           Av Dub   NaN  http://redsky.target.com/v1/plp/search?kwr=y&c...   \n",
       "4       Chelseamay   NaN  https://redsky.target.com/groot-domain-api/v1/...   \n",
       "\n",
       "           upc    weight  \n",
       "0   4.9213E+11   1.0 lbs  \n",
       "1  83120003441  2.45 lbs  \n",
       "2  82896001453  3.09 lbs  \n",
       "3  82896001453  3.09 lbs  \n",
       "4  85200600465   1.0 lbs  \n",
       "\n",
       "[5 rows x 32 columns]"
      ]
     },
     "execution_count": 3,
     "metadata": {},
     "output_type": "execute_result"
    }
   ],
   "source": [
    "# 데이터 확인\n",
    "df.head()"
   ]
  },
  {
   "cell_type": "code",
   "execution_count": 4,
   "id": "86541140",
   "metadata": {},
   "outputs": [
    {
     "name": "stdout",
     "output_type": "stream",
     "text": [
      "<class 'pandas.core.frame.DataFrame'>\n",
      "RangeIndex: 2890 entries, 0 to 2889\n",
      "Data columns (total 32 columns):\n",
      " #   Column                Non-Null Count  Dtype  \n",
      "---  ------                --------------  -----  \n",
      " 0   id                    2890 non-null   object \n",
      " 1   asins                 870 non-null    object \n",
      " 2   brand                 2825 non-null   object \n",
      " 3   categories            2890 non-null   object \n",
      " 4   dateAdded             2890 non-null   object \n",
      " 5   dateUpdated           2890 non-null   object \n",
      " 6   descriptions          2738 non-null   object \n",
      " 7   dimension             1838 non-null   object \n",
      " 8   ean                   2166 non-null   object \n",
      " 9   flavors               151 non-null    object \n",
      " 10  keys                  2890 non-null   object \n",
      " 11  manufacturer          849 non-null    object \n",
      " 12  manufacturerNumber    2457 non-null   object \n",
      " 13  name                  2890 non-null   object \n",
      " 14  reviews.date          2552 non-null   object \n",
      " 15  reviews.dateAdded     2890 non-null   object \n",
      " 16  reviews.dateSeen      2890 non-null   object \n",
      " 17  reviews.didPurchase   2049 non-null   object \n",
      " 18  reviews.doRecommend   1911 non-null   object \n",
      " 19  reviews.id            1885 non-null   float64\n",
      " 20  reviews.numHelpful    626 non-null    float64\n",
      " 21  reviews.rating        2445 non-null   float64\n",
      " 22  reviews.sourceURLs    2890 non-null   object \n",
      " 23  reviews.text          2889 non-null   object \n",
      " 24  reviews.title         2846 non-null   object \n",
      " 25  reviews.userCity      82 non-null     object \n",
      " 26  reviews.userProvince  9 non-null      object \n",
      " 27  reviews.username      2889 non-null   object \n",
      " 28  sizes                 22 non-null     object \n",
      " 29  sourceURLs            2890 non-null   object \n",
      " 30  upc                   2743 non-null   object \n",
      " 31  weight                996 non-null    object \n",
      "dtypes: float64(3), object(29)\n",
      "memory usage: 722.6+ KB\n"
     ]
    }
   ],
   "source": [
    "df.info()"
   ]
  },
  {
   "cell_type": "markdown",
   "id": "9a939b75",
   "metadata": {},
   "source": [
    "### Feature Description\n",
    "##### • rating: 이용자 리뷰의 평가 점수 (1~5)\n",
    "##### • text: 이용자 리뷰 평가 내용"
   ]
  },
  {
   "cell_type": "code",
   "execution_count": 5,
   "id": "0ffbc0df",
   "metadata": {},
   "outputs": [
    {
     "data": {
      "text/plain": [
       "(2890, 32)"
      ]
     },
     "execution_count": 5,
     "metadata": {},
     "output_type": "execute_result"
    }
   ],
   "source": [
    "# dimension\n",
    "df.shape"
   ]
  },
  {
   "cell_type": "code",
   "execution_count": 6,
   "id": "647302bc",
   "metadata": {},
   "outputs": [
    {
     "data": {
      "text/plain": [
       "id                         0\n",
       "asins                   2020\n",
       "brand                     65\n",
       "categories                 0\n",
       "dateAdded                  0\n",
       "dateUpdated                0\n",
       "descriptions             152\n",
       "dimension               1052\n",
       "ean                      724\n",
       "flavors                 2739\n",
       "keys                       0\n",
       "manufacturer            2041\n",
       "manufacturerNumber       433\n",
       "name                       0\n",
       "reviews.date             338\n",
       "reviews.dateAdded          0\n",
       "reviews.dateSeen           0\n",
       "reviews.didPurchase      841\n",
       "reviews.doRecommend      979\n",
       "reviews.id              1005\n",
       "reviews.numHelpful      2264\n",
       "reviews.rating           445\n",
       "reviews.sourceURLs         0\n",
       "reviews.text               1\n",
       "reviews.title             44\n",
       "reviews.userCity        2808\n",
       "reviews.userProvince    2881\n",
       "reviews.username           1\n",
       "sizes                   2868\n",
       "sourceURLs                 0\n",
       "upc                      147\n",
       "weight                  1894\n",
       "dtype: int64"
      ]
     },
     "execution_count": 6,
     "metadata": {},
     "output_type": "execute_result"
    }
   ],
   "source": [
    "# 결측치 확인\n",
    "df.isnull().sum()"
   ]
  },
  {
   "cell_type": "markdown",
   "id": "0159608d",
   "metadata": {},
   "source": [
    "### 2.2 영문 텍스트 데이터 전처리\n",
    "텍스트 데이터를 단어 단위로 분리하는 전처리 과정 필요. 리뷰 평가 내용 단어화하여 형태소 추출 및 TF-IDF 변환"
   ]
  },
  {
   "cell_type": "code",
   "execution_count": 7,
   "id": "3ef5024f",
   "metadata": {},
   "outputs": [
    {
     "data": {
      "text/plain": [
       "'This a fantastic white wine for any occasion!'"
      ]
     },
     "execution_count": 7,
     "metadata": {},
     "output_type": "execute_result"
    }
   ],
   "source": [
    "# text 변수 확인\n",
    "df['reviews.text'][0]"
   ]
  },
  {
   "cell_type": "code",
   "execution_count": 8,
   "id": "d4f23f58",
   "metadata": {},
   "outputs": [],
   "source": [
    "# 정규 표현식\n",
    "import re\n",
    "import pandas as pd\n",
    "\n",
    "def apply_regular_expression(text):\n",
    "    # 영어 단어와 공백만을 추출하는 정규 표현식\n",
    "    pattern = re.compile(r'[a-zA-Z\\s]+')\n",
    "    # 매칭된 부분만 추출하여 소문자로 변환\n",
    "    matches = pattern.findall(text)\n",
    "    cleaned_text = ' '.join(matches).lower()\n",
    "    return cleaned_text\n",
    "\n",
    "# NaN 값을 빈 문자열로 대체\n",
    "df['reviews.text'] = df['reviews.text'].fillna(\"\")"
   ]
  },
  {
   "cell_type": "code",
   "execution_count": 10,
   "id": "f95f73d9",
   "metadata": {},
   "outputs": [],
   "source": [
    "#결측값 처리\n",
    "df = df.dropna(subset=['reviews.text', 'reviews.rating'])"
   ]
  },
  {
   "cell_type": "code",
   "execution_count": 11,
   "id": "6150cb72",
   "metadata": {},
   "outputs": [
    {
     "data": {
      "text/plain": [
       "'this a fantastic white wine for any occasion'"
      ]
     },
     "execution_count": 11,
     "metadata": {},
     "output_type": "execute_result"
    }
   ],
   "source": [
    "apply_regular_expression(df['reviews.text'][0])"
   ]
  },
  {
   "cell_type": "code",
   "execution_count": 12,
   "id": "9ac32d7d",
   "metadata": {},
   "outputs": [],
   "source": [
    "# 전체 데이터프레임에 대해 함수를 적용\n",
    "df['reviews.text'] = df['reviews.text'].apply(apply_regular_expression)"
   ]
  },
  {
   "cell_type": "markdown",
   "id": "2d2be57a",
   "metadata": {},
   "source": [
    "### 2.3 영문 형태소 분석\n",
    "NLTK : 자연어 처리 라이브러리로, 형태소 분석을 위해 품사 태깅 사용 가능\n",
    "    NLTK를 사용하여 영문 텍스트에서 명사, 동사, 형용사, 부사 추출"
   ]
  },
  {
   "cell_type": "code",
   "execution_count": 13,
   "id": "f647f884",
   "metadata": {},
   "outputs": [
    {
     "name": "stdout",
     "output_type": "stream",
     "text": [
      "Requirement already satisfied: nltk in c:\\users\\lg\\anaconda3\\lib\\site-packages (3.7)\n",
      "Requirement already satisfied: joblib in c:\\users\\lg\\anaconda3\\lib\\site-packages (from nltk) (1.1.1)\n",
      "Requirement already satisfied: regex>=2021.8.3 in c:\\users\\lg\\anaconda3\\lib\\site-packages (from nltk) (2022.7.9)\n",
      "Requirement already satisfied: tqdm in c:\\users\\lg\\anaconda3\\lib\\site-packages (from nltk) (4.64.1)\n",
      "Requirement already satisfied: click in c:\\users\\lg\\anaconda3\\lib\\site-packages (from nltk) (8.0.4)\n",
      "Requirement already satisfied: colorama in c:\\users\\lg\\anaconda3\\lib\\site-packages (from click->nltk) (0.4.6)\n",
      "Note: you may need to restart the kernel to use updated packages.\n"
     ]
    }
   ],
   "source": [
    "pip install nltk"
   ]
  },
  {
   "cell_type": "code",
   "execution_count": 14,
   "id": "3e96e809",
   "metadata": {},
   "outputs": [],
   "source": [
    "import nltk\n",
    "from nltk.tokenize import word_tokenize\n",
    "import string"
   ]
  },
  {
   "cell_type": "code",
   "execution_count": 15,
   "id": "1b849a41",
   "metadata": {},
   "outputs": [
    {
     "name": "stderr",
     "output_type": "stream",
     "text": [
      "[nltk_data] Downloading package punkt to\n",
      "[nltk_data]     C:\\Users\\LG\\AppData\\Roaming\\nltk_data...\n",
      "[nltk_data]   Package punkt is already up-to-date!\n",
      "[nltk_data] Downloading package averaged_perceptron_tagger to\n",
      "[nltk_data]     C:\\Users\\LG\\AppData\\Roaming\\nltk_data...\n",
      "[nltk_data]   Package averaged_perceptron_tagger is already up-to-\n",
      "[nltk_data]       date!\n",
      "[nltk_data] Downloading package stopwords to\n",
      "[nltk_data]     C:\\Users\\LG\\AppData\\Roaming\\nltk_data...\n",
      "[nltk_data]   Package stopwords is already up-to-date!\n"
     ]
    },
    {
     "data": {
      "text/plain": [
       "True"
      ]
     },
     "execution_count": 15,
     "metadata": {},
     "output_type": "execute_result"
    }
   ],
   "source": [
    "#nltk 자원 다운로드\n",
    "\n",
    "import nltk\n",
    "nltk.download('punkt')\n",
    "nltk.download('averaged_perceptron_tagger')\n",
    "nltk.download('stopwords')"
   ]
  },
  {
   "cell_type": "code",
   "execution_count": 16,
   "id": "37c2e2ef",
   "metadata": {},
   "outputs": [],
   "source": [
    "# 명사, 동사, 형용사, 부사 형태소 추출을 위한 함수\n",
    "def extract_words_with_tags(text):\n",
    "    # 텍스트를 토큰화하고 품사 태깅\n",
    "    tokens = word_tokenize(text)\n",
    "    tagged_tokens = nltk.pos_tag(tokens)\n",
    "    # 명사, 동사, 형용사, 부사 추출\n",
    "    words = [word for word, pos in tagged_tokens if pos.startswith('N') or pos.startswith('V') or pos.startswith('J') or pos.startswith('R')]\n",
    "    return words"
   ]
  },
  {
   "cell_type": "code",
   "execution_count": 17,
   "id": "c3e9cda7",
   "metadata": {},
   "outputs": [
    {
     "name": "stdout",
     "output_type": "stream",
     "text": [
      "['fantastic', 'white', 'wine', 'occasion']\n"
     ]
    }
   ],
   "source": [
    "# 예시 데이터의 첫 번째 리뷰 텍스트에 대해 전처리 및 필터링된 단어 추출\n",
    "cleaned_text = apply_regular_expression(df['reviews.text'][0])\n",
    "words = extract_words_with_tags(cleaned_text)\n",
    "print(words)"
   ]
  },
  {
   "cell_type": "code",
   "execution_count": 18,
   "id": "f517478e",
   "metadata": {},
   "outputs": [],
   "source": [
    "# 전체 리뷰 텍스트 말뭉치(corpus) 생성\n",
    "corpus = \" \".join(df['reviews.text'].tolist())\n",
    "cleaned_corpus = apply_regular_expression(corpus)"
   ]
  },
  {
   "cell_type": "code",
   "execution_count": 19,
   "id": "d3140f9a",
   "metadata": {},
   "outputs": [],
   "source": [
    "# 정규 표현식 적용\n",
    "corpus = apply_regular_expression(corpus)"
   ]
  },
  {
   "cell_type": "code",
   "execution_count": 20,
   "id": "22a1d41b",
   "metadata": {},
   "outputs": [],
   "source": [
    "# 전체 말뭉치에서 명사, 동사, 형용사, 부사 추출\n",
    "words_corpus = extract_words_with_tags(corpus)"
   ]
  },
  {
   "cell_type": "code",
   "execution_count": 21,
   "id": "ddf94f26",
   "metadata": {},
   "outputs": [],
   "source": [
    "# 빈도탐색\n",
    "from collections import Counter\n",
    "\n",
    "# 단어 빈도 계산\n",
    "counter = Counter(words_corpus)"
   ]
  },
  {
   "cell_type": "code",
   "execution_count": 22,
   "id": "1ce6e100",
   "metadata": {},
   "outputs": [
    {
     "data": {
      "text/plain": [
       "[('i', 3655),\n",
       " ('is', 1157),\n",
       " ('have', 879),\n",
       " ('lips', 837),\n",
       " ('carmex', 718),\n",
       " ('was', 568),\n",
       " ('love', 547),\n",
       " ('great', 508),\n",
       " ('product', 481),\n",
       " ('s', 472)]"
      ]
     },
     "execution_count": 22,
     "metadata": {},
     "output_type": "execute_result"
    }
   ],
   "source": [
    "counter.most_common(10)"
   ]
  },
  {
   "cell_type": "code",
   "execution_count": 23,
   "id": "c275bda1",
   "metadata": {},
   "outputs": [
    {
     "data": {
      "text/plain": [
       "[('is', 1157),\n",
       " ('have', 879),\n",
       " ('lips', 837),\n",
       " ('carmex', 718),\n",
       " ('was', 568),\n",
       " ('love', 547),\n",
       " ('great', 508),\n",
       " ('product', 481),\n",
       " ('not', 467),\n",
       " ('good', 380)]"
      ]
     },
     "execution_count": 23,
     "metadata": {},
     "output_type": "execute_result"
    }
   ],
   "source": [
    "#한 글자 문자 제거\n",
    "available_counter = Counter({x: counter[x] for x in counter if len(x) > 1})\n",
    "available_counter.most_common(10)"
   ]
  },
  {
   "cell_type": "markdown",
   "id": "a2e05d87",
   "metadata": {},
   "source": [
    "### 2.4 영문 불용어 제거\n",
    "불용어 : 자연어 처리에서 분석에 큰 의미가 없거나 정확도를 낮출 수 있는 단어를 NLTK의 stopwords 모듈을 사용하여 제거"
   ]
  },
  {
   "cell_type": "code",
   "execution_count": 24,
   "id": "41d30fb4",
   "metadata": {},
   "outputs": [
    {
     "name": "stderr",
     "output_type": "stream",
     "text": [
      "[nltk_data] Downloading package punkt to\n",
      "[nltk_data]     C:\\Users\\LG\\AppData\\Roaming\\nltk_data...\n",
      "[nltk_data]   Package punkt is already up-to-date!\n",
      "[nltk_data] Downloading package stopwords to\n",
      "[nltk_data]     C:\\Users\\LG\\AppData\\Roaming\\nltk_data...\n",
      "[nltk_data]   Package stopwords is already up-to-date!\n"
     ]
    },
    {
     "data": {
      "text/plain": [
       "True"
      ]
     },
     "execution_count": 24,
     "metadata": {},
     "output_type": "execute_result"
    }
   ],
   "source": [
    "import nltk\n",
    "from nltk.corpus import stopwords\n",
    "from nltk.tokenize import word_tokenize\n",
    "\n",
    "# 필요한 NLTK 데이터를 다운로드\n",
    "nltk.download('punkt')  # 토큰화를 위해 필요\n",
    "nltk.download('stopwords')  # 불용어를 제거하기 위한 데이터"
   ]
  },
  {
   "cell_type": "code",
   "execution_count": 25,
   "id": "f6339e4f",
   "metadata": {},
   "outputs": [],
   "source": [
    "# 영어 불용어 리스트\n",
    "stop_words = set(stopwords.words('english'))"
   ]
  },
  {
   "cell_type": "code",
   "execution_count": 26,
   "id": "bb41dd04",
   "metadata": {},
   "outputs": [],
   "source": [
    "# 불용어를 제거하는 함수\n",
    "def remove_stopwords(text):\n",
    "    stop_words = set(stopwords.words('english'))  # NLTK의 영어 불용어 리스트\n",
    "    tokens = word_tokenize(text)  # 토큰화\n",
    "    filtered_tokens = [word for word in tokens if word.lower() not in stop_words]\n",
    "    filtered_text = ' '.join(filtered_tokens)\n",
    "    return filtered_text"
   ]
  },
  {
   "cell_type": "code",
   "execution_count": 27,
   "id": "dc5e7af6",
   "metadata": {
    "scrolled": true
   },
   "outputs": [
    {
     "data": {
      "text/plain": [
       "0                      [fantastic, white, wine, occasion]\n",
       "1                    [tart, sweet, refreshing, delicious]\n",
       "2       [given, wine, delightful, surprise, find, flav...\n",
       "3                  [phenomenal, wine, new, favorite, red]\n",
       "4       [ml, bottles, price, way, packaging, yes, plea...\n",
       "                              ...                        \n",
       "2885    [sweet, wine, skeptical, ordering, tasting, fi...\n",
       "2886    [ordered, bottle, set, meritage, moscata, wine...\n",
       "2887    [ordered, white, zinfadel, bottle, selection, ...\n",
       "2888    [first, purchase, wines, tried, moscato, sweet...\n",
       "2889    [know, negative, reviews, said, wine, tasted, ...\n",
       "Name: filtered_words, Length: 2445, dtype: object"
      ]
     },
     "execution_count": 27,
     "metadata": {},
     "output_type": "execute_result"
    }
   ],
   "source": [
    "# 전체 리뷰 텍스트에 정규 표현식 적용\n",
    "df['cleaned_text'] = df['reviews.text'].apply(apply_regular_expression)\n",
    "\n",
    "# 불용어 제거\n",
    "df['cleaned_text'] = df['cleaned_text'].apply(remove_stopwords)\n",
    "\n",
    "# 전체 말뭉치에서 명사, 동사, 형용사, 부사 추출\n",
    "df['filtered_words'] = df['cleaned_text'].apply(extract_words_with_tags)\n",
    "\n",
    "# 결과 확인\n",
    "df['filtered_words']"
   ]
  },
  {
   "cell_type": "markdown",
   "id": "62979fd4",
   "metadata": {},
   "source": [
    "### 2.5 Word Count 데이터 빈도 분석"
   ]
  },
  {
   "cell_type": "code",
   "execution_count": 28,
   "id": "cc02e6b8",
   "metadata": {},
   "outputs": [],
   "source": [
    "import pandas as pd\n",
    "from sklearn.feature_extraction.text import CountVectorizer\n",
    "from nltk.corpus import stopwords\n",
    "from nltk.tokenize import word_tokenize"
   ]
  },
  {
   "cell_type": "code",
   "execution_count": 29,
   "id": "3977f97d",
   "metadata": {},
   "outputs": [],
   "source": [
    "# 불용어를 제거하는 함수\n",
    "def remove_stopwords(text):\n",
    "    stop_words = set(stopwords.words('english'))  # NLTK의 영어 불용어 리스트\n",
    "    tokens = word_tokenize(text)  # 토큰화\n",
    "    filtered_tokens = [word for word in tokens if word.lower() not in stop_words]\n",
    "    filtered_text = ' '.join(filtered_tokens)\n",
    "    return filtered_text"
   ]
  },
  {
   "cell_type": "code",
   "execution_count": 30,
   "id": "75787e97",
   "metadata": {},
   "outputs": [],
   "source": [
    "# 전체 리뷰 텍스트에 정규 표현식 적용\n",
    "df['cleaned_text'] = df['reviews.text'].apply(apply_regular_expression)"
   ]
  },
  {
   "cell_type": "code",
   "execution_count": 31,
   "id": "faa49d57",
   "metadata": {},
   "outputs": [],
   "source": [
    "# 불용어 제거\n",
    "df['cleaned_text'] = df['cleaned_text'].apply(remove_stopwords)"
   ]
  },
  {
   "cell_type": "code",
   "execution_count": 32,
   "id": "9f7e6314",
   "metadata": {},
   "outputs": [
    {
     "name": "stdout",
     "output_type": "stream",
     "text": [
      "Word list: ['aaa' 'abd' 'abilities' ... 'zippers' 'zombies' 'zustand']\n",
      "BoW vector:\n",
      " [[0 0 0 ... 0 0 0]\n",
      " [0 0 0 ... 0 0 0]\n",
      " [0 0 0 ... 0 0 0]\n",
      " ...\n",
      " [0 0 0 ... 0 0 0]\n",
      " [0 0 0 ... 0 0 0]\n",
      " [0 0 0 ... 0 0 0]]\n"
     ]
    }
   ],
   "source": [
    "# CountVectorizer를 사용하여 BoW 벡터 생성\n",
    "vect = CountVectorizer(stop_words='english')  # 'english' 문자열을 사용하여 사전 정의된 영어 불용어 리스트 사용\n",
    "bow_vect = vect.fit_transform(df['cleaned_text'])\n",
    "word_list = vect.get_feature_names_out()\n",
    "count_list = bow_vect.toarray().sum(axis=0)\n",
    "# 결과 확인\n",
    "print(\"Word list:\", word_list)\n",
    "print(\"BoW vector:\\n\", bow_vect.toarray())"
   ]
  },
  {
   "cell_type": "code",
   "execution_count": 33,
   "id": "5cf38d12",
   "metadata": {},
   "outputs": [
    {
     "data": {
      "text/plain": [
       "array(['aaa', 'abd', 'abilities', ..., 'zippers', 'zombies', 'zustand'],\n",
       "      dtype=object)"
      ]
     },
     "execution_count": 33,
     "metadata": {},
     "output_type": "execute_result"
    }
   ],
   "source": [
    "# 단어 리스트\n",
    "word_list"
   ]
  },
  {
   "cell_type": "code",
   "execution_count": 34,
   "id": "9117b175",
   "metadata": {},
   "outputs": [
    {
     "data": {
      "text/plain": [
       "array([1, 1, 1, ..., 1, 1, 1], dtype=int64)"
      ]
     },
     "execution_count": 34,
     "metadata": {},
     "output_type": "execute_result"
    }
   ],
   "source": [
    "# 각 단어가 전체 리뷰중에 등장한 총 횟수\n",
    "count_list"
   ]
  },
  {
   "cell_type": "code",
   "execution_count": 35,
   "id": "3a1f8060",
   "metadata": {},
   "outputs": [
    {
     "data": {
      "text/plain": [
       "array([[0, 0, 0, ..., 0, 0, 0],\n",
       "       [0, 0, 0, ..., 0, 0, 0],\n",
       "       [0, 0, 0, ..., 0, 0, 0],\n",
       "       ...,\n",
       "       [0, 0, 0, ..., 0, 0, 0],\n",
       "       [0, 0, 0, ..., 0, 0, 0],\n",
       "       [0, 0, 0, ..., 0, 0, 0]], dtype=int64)"
      ]
     },
     "execution_count": 35,
     "metadata": {},
     "output_type": "execute_result"
    }
   ],
   "source": [
    "# 각 단어의 리뷰별 등장 횟수\n",
    "bow_vect.toarray()"
   ]
  },
  {
   "cell_type": "code",
   "execution_count": 36,
   "id": "b08d18ab",
   "metadata": {},
   "outputs": [
    {
     "data": {
      "text/plain": [
       "(2445, 4749)"
      ]
     },
     "execution_count": 36,
     "metadata": {},
     "output_type": "execute_result"
    }
   ],
   "source": [
    "#CountVectorizer로 변환된 BoW벡터의 형태(shape)를 확인\n",
    "bow_vect.shape"
   ]
  },
  {
   "cell_type": "code",
   "execution_count": 37,
   "id": "70d5e8fc",
   "metadata": {},
   "outputs": [],
   "source": [
    "# \"단어\" - \"총 등장 횟수\" Matching\n",
    "\n",
    "word_count_dict = dict(zip(word_list, count_list))"
   ]
  },
  {
   "cell_type": "markdown",
   "id": "208a926c",
   "metadata": {},
   "source": [
    "### 2.6 TF-IDF 적용\n",
    "TF-IDF 변환\n",
    "Bow 벡터 TF-IDF 변환 진행"
   ]
  },
  {
   "cell_type": "code",
   "execution_count": 38,
   "id": "cf872577",
   "metadata": {},
   "outputs": [],
   "source": [
    "from sklearn.feature_extraction.text import TfidfTransformer\n",
    "\n",
    "tfidf_vectorizer = TfidfTransformer()\n",
    "tf_idf_vect = tfidf_vectorizer.fit_transform(bow_vect)"
   ]
  },
  {
   "cell_type": "code",
   "execution_count": 39,
   "id": "f36ff986",
   "metadata": {},
   "outputs": [
    {
     "name": "stdout",
     "output_type": "stream",
     "text": [
      "(2445, 4749)\n"
     ]
    }
   ],
   "source": [
    "print(tf_idf_vect.shape)\n",
    "#변환 수 2445*4749 matrix 출력"
   ]
  },
  {
   "cell_type": "code",
   "execution_count": 40,
   "id": "6a54a6f2",
   "metadata": {},
   "outputs": [
    {
     "name": "stdout",
     "output_type": "stream",
     "text": [
      "  (0, 4644)\t0.33866694708045847\n",
      "  (0, 4630)\t0.4655515390166344\n",
      "  (0, 2807)\t0.6302568090300436\n",
      "  (0, 1483)\t0.5209057670497729\n"
     ]
    }
   ],
   "source": [
    "# 첫 번째 리뷰에서의 단어 중요도(TF-IDF 값) -- 0이 아닌 것만 출력\n",
    "print(tf_idf_vect[0])"
   ]
  },
  {
   "cell_type": "code",
   "execution_count": 41,
   "id": "c591dc1e",
   "metadata": {},
   "outputs": [
    {
     "name": "stdout",
     "output_type": "stream",
     "text": [
      "(1, 4749)\n",
      "[[0. 0. 0. ... 0. 0. 0.]]\n"
     ]
    }
   ],
   "source": [
    "# 첫 번째 리뷰에서 모든 단어의 중요도 -- 0인 값까지 포함\n",
    "print(tf_idf_vect[0].toarray().shape)\n",
    "print(tf_idf_vect[0].toarray())"
   ]
  },
  {
   "cell_type": "markdown",
   "id": "5caffd54",
   "metadata": {},
   "source": [
    "##### | “벡터” - “단어” mapping"
   ]
  },
  {
   "cell_type": "code",
   "execution_count": 42,
   "id": "4fe3a499",
   "metadata": {},
   "outputs": [],
   "source": [
    "vect.vocabulary_=vect.vocabulary_"
   ]
  },
  {
   "cell_type": "code",
   "execution_count": 43,
   "id": "c33223e5",
   "metadata": {},
   "outputs": [
    {
     "name": "stdout",
     "output_type": "stream",
     "text": [
      "{1483: 'fantastic', 4630: 'white', 4644: 'wine', 2807: 'occasion', 4185: 'tart', 4137: 'sweet', 3337...\n"
     ]
    }
   ],
   "source": [
    "invert_index_vectorizer = {v: k for k, v in vect.vocabulary_.items()}\n",
    "print(str(invert_index_vectorizer)[:100]+'...')"
   ]
  },
  {
   "cell_type": "markdown",
   "id": "d1a9b328",
   "metadata": {},
   "source": [
    "## | 3. 모델 선택 및 학습\n",
    "##### 전처리한 리뷰 데이터 활용하여 감성 분류 예측 모델 제작 \n",
    "##### X 값(feature 값): 이용자의 리뷰 평가 내용 Y값(label 값) 이용자의 긍/부정 감성"
   ]
  },
  {
   "cell_type": "markdown",
   "id": "199ce83a",
   "metadata": {},
   "source": [
    "### 3.1 데이터셋 생성\n",
    "\n",
    "rating 값 : 1~5를 활용하여 긍정/부정 점수 value 설정"
   ]
  },
  {
   "cell_type": "code",
   "execution_count": 44,
   "id": "5f7b74ef",
   "metadata": {},
   "outputs": [
    {
     "data": {
      "text/html": [
       "<div>\n",
       "<style scoped>\n",
       "    .dataframe tbody tr th:only-of-type {\n",
       "        vertical-align: middle;\n",
       "    }\n",
       "\n",
       "    .dataframe tbody tr th {\n",
       "        vertical-align: top;\n",
       "    }\n",
       "\n",
       "    .dataframe thead th {\n",
       "        text-align: right;\n",
       "    }\n",
       "</style>\n",
       "<table border=\"1\" class=\"dataframe\">\n",
       "  <thead>\n",
       "    <tr style=\"text-align: right;\">\n",
       "      <th></th>\n",
       "      <th>id</th>\n",
       "      <th>asins</th>\n",
       "      <th>brand</th>\n",
       "      <th>categories</th>\n",
       "      <th>dateAdded</th>\n",
       "      <th>dateUpdated</th>\n",
       "      <th>descriptions</th>\n",
       "      <th>dimension</th>\n",
       "      <th>ean</th>\n",
       "      <th>flavors</th>\n",
       "      <th>...</th>\n",
       "      <th>reviews.title</th>\n",
       "      <th>reviews.userCity</th>\n",
       "      <th>reviews.userProvince</th>\n",
       "      <th>reviews.username</th>\n",
       "      <th>sizes</th>\n",
       "      <th>sourceURLs</th>\n",
       "      <th>upc</th>\n",
       "      <th>weight</th>\n",
       "      <th>cleaned_text</th>\n",
       "      <th>filtered_words</th>\n",
       "    </tr>\n",
       "  </thead>\n",
       "  <tbody>\n",
       "    <tr>\n",
       "      <th>0</th>\n",
       "      <td>AV13ClKCGV-KLJ3akN68</td>\n",
       "      <td>NaN</td>\n",
       "      <td>Gallo</td>\n",
       "      <td>Food &amp; Beverage,Beverages,Wine, Beer &amp; Liquor,...</td>\n",
       "      <td>2017-07-24T23:59:11Z</td>\n",
       "      <td>2018-01-10T18:06:28Z</td>\n",
       "      <td>NaN</td>\n",
       "      <td>1.0 in x 1.0 in x 1.0 in</td>\n",
       "      <td>NaN</td>\n",
       "      <td>NaN</td>\n",
       "      <td>...</td>\n",
       "      <td>My Favorite White Wine</td>\n",
       "      <td>NaN</td>\n",
       "      <td>NaN</td>\n",
       "      <td>Bjh</td>\n",
       "      <td>NaN</td>\n",
       "      <td>http://redsky.target.com/v1/plp/search?kwr=y&amp;c...</td>\n",
       "      <td>4.9213E+11</td>\n",
       "      <td>1.0 lbs</td>\n",
       "      <td>fantastic white wine occasion</td>\n",
       "      <td>[fantastic, white, wine, occasion]</td>\n",
       "    </tr>\n",
       "    <tr>\n",
       "      <th>1</th>\n",
       "      <td>AV13CsvW-jtxr-f38AQO</td>\n",
       "      <td>NaN</td>\n",
       "      <td>Fresh Craft Co.</td>\n",
       "      <td>Food &amp; Beverage,Beverages,Wine, Beer &amp; Liquor,...</td>\n",
       "      <td>2017-07-24T23:59:42Z</td>\n",
       "      <td>2018-01-10T05:38:33Z</td>\n",
       "      <td>[{\"dateSeen\":[\"2017-12-21T05:43:00.000Z\",\"2017...</td>\n",
       "      <td>4.25 in x 4.25 in x 5.25 in</td>\n",
       "      <td>NaN</td>\n",
       "      <td>NaN</td>\n",
       "      <td>...</td>\n",
       "      <td>Yum!!</td>\n",
       "      <td>NaN</td>\n",
       "      <td>NaN</td>\n",
       "      <td>Wino</td>\n",
       "      <td>NaN</td>\n",
       "      <td>http://redsky.target.com/v1/plp/search?kwr=y&amp;c...</td>\n",
       "      <td>83120003441</td>\n",
       "      <td>2.45 lbs</td>\n",
       "      <td>tart sweet refreshing delicious</td>\n",
       "      <td>[tart, sweet, refreshing, delicious]</td>\n",
       "    </tr>\n",
       "    <tr>\n",
       "      <th>2</th>\n",
       "      <td>AV13CVI_glJLPUi8O7Po</td>\n",
       "      <td>NaN</td>\n",
       "      <td>1000 Stories</td>\n",
       "      <td>Food &amp; Beverage,Beverages,Wine, Beer &amp; Liquor,...</td>\n",
       "      <td>2017-07-24T23:58:05Z</td>\n",
       "      <td>2018-01-10T05:38:31Z</td>\n",
       "      <td>NaN</td>\n",
       "      <td>3.3 in x 3.3 in x 11.79 in</td>\n",
       "      <td>NaN</td>\n",
       "      <td>NaN</td>\n",
       "      <td>...</td>\n",
       "      <td>A New Favorite!</td>\n",
       "      <td>NaN</td>\n",
       "      <td>NaN</td>\n",
       "      <td>Bama Mom</td>\n",
       "      <td>NaN</td>\n",
       "      <td>http://redsky.target.com/v1/plp/search?kwr=y&amp;c...</td>\n",
       "      <td>82896001453</td>\n",
       "      <td>3.09 lbs</td>\n",
       "      <td>given wine delightful surprise find flavorful ...</td>\n",
       "      <td>[given, wine, delightful, surprise, find, flav...</td>\n",
       "    </tr>\n",
       "    <tr>\n",
       "      <th>3</th>\n",
       "      <td>AV13CVI_glJLPUi8O7Po</td>\n",
       "      <td>NaN</td>\n",
       "      <td>1000 Stories</td>\n",
       "      <td>Food &amp; Beverage,Beverages,Wine, Beer &amp; Liquor,...</td>\n",
       "      <td>2017-07-24T23:58:05Z</td>\n",
       "      <td>2018-01-10T05:38:31Z</td>\n",
       "      <td>NaN</td>\n",
       "      <td>3.3 in x 3.3 in x 11.79 in</td>\n",
       "      <td>NaN</td>\n",
       "      <td>NaN</td>\n",
       "      <td>...</td>\n",
       "      <td>Bold, Flavorful, Aromatic, Delicious</td>\n",
       "      <td>NaN</td>\n",
       "      <td>NaN</td>\n",
       "      <td>Av Dub</td>\n",
       "      <td>NaN</td>\n",
       "      <td>http://redsky.target.com/v1/plp/search?kwr=y&amp;c...</td>\n",
       "      <td>82896001453</td>\n",
       "      <td>3.09 lbs</td>\n",
       "      <td>phenomenal wine new favorite red</td>\n",
       "      <td>[phenomenal, wine, new, favorite, red]</td>\n",
       "    </tr>\n",
       "    <tr>\n",
       "      <th>4</th>\n",
       "      <td>AV13CYL4-jtxr-f37_-t</td>\n",
       "      <td>NaN</td>\n",
       "      <td>Wine Cube153</td>\n",
       "      <td>Food &amp; Beverage,Beverages,Wine, Beer &amp; Liquor,...</td>\n",
       "      <td>2017-07-24T23:58:18Z</td>\n",
       "      <td>2018-01-10T18:06:29Z</td>\n",
       "      <td>[{\"dateSeen\":[\"2017-12-21T05:43:00.000Z\",\"2017...</td>\n",
       "      <td>1.0 in x 1.0 in x 1.0 in</td>\n",
       "      <td>NaN</td>\n",
       "      <td>NaN</td>\n",
       "      <td>...</td>\n",
       "      <td>Yum! Plus, Environmentally Friendly!</td>\n",
       "      <td>Overland Park</td>\n",
       "      <td>NaN</td>\n",
       "      <td>Chelseamay</td>\n",
       "      <td>NaN</td>\n",
       "      <td>https://redsky.target.com/groot-domain-api/v1/...</td>\n",
       "      <td>85200600465</td>\n",
       "      <td>1.0 lbs</td>\n",
       "      <td>ml bottles price two way less packaging yes pl...</td>\n",
       "      <td>[ml, bottles, price, way, packaging, yes, plea...</td>\n",
       "    </tr>\n",
       "  </tbody>\n",
       "</table>\n",
       "<p>5 rows × 34 columns</p>\n",
       "</div>"
      ],
      "text/plain": [
       "                     id asins            brand  \\\n",
       "0  AV13ClKCGV-KLJ3akN68   NaN            Gallo   \n",
       "1  AV13CsvW-jtxr-f38AQO   NaN  Fresh Craft Co.   \n",
       "2  AV13CVI_glJLPUi8O7Po   NaN     1000 Stories   \n",
       "3  AV13CVI_glJLPUi8O7Po   NaN     1000 Stories   \n",
       "4  AV13CYL4-jtxr-f37_-t   NaN     Wine Cube153   \n",
       "\n",
       "                                          categories             dateAdded  \\\n",
       "0  Food & Beverage,Beverages,Wine, Beer & Liquor,...  2017-07-24T23:59:11Z   \n",
       "1  Food & Beverage,Beverages,Wine, Beer & Liquor,...  2017-07-24T23:59:42Z   \n",
       "2  Food & Beverage,Beverages,Wine, Beer & Liquor,...  2017-07-24T23:58:05Z   \n",
       "3  Food & Beverage,Beverages,Wine, Beer & Liquor,...  2017-07-24T23:58:05Z   \n",
       "4  Food & Beverage,Beverages,Wine, Beer & Liquor,...  2017-07-24T23:58:18Z   \n",
       "\n",
       "            dateUpdated                                       descriptions  \\\n",
       "0  2018-01-10T18:06:28Z                                                NaN   \n",
       "1  2018-01-10T05:38:33Z  [{\"dateSeen\":[\"2017-12-21T05:43:00.000Z\",\"2017...   \n",
       "2  2018-01-10T05:38:31Z                                                NaN   \n",
       "3  2018-01-10T05:38:31Z                                                NaN   \n",
       "4  2018-01-10T18:06:29Z  [{\"dateSeen\":[\"2017-12-21T05:43:00.000Z\",\"2017...   \n",
       "\n",
       "                     dimension  ean flavors  ...  \\\n",
       "0     1.0 in x 1.0 in x 1.0 in  NaN     NaN  ...   \n",
       "1  4.25 in x 4.25 in x 5.25 in  NaN     NaN  ...   \n",
       "2   3.3 in x 3.3 in x 11.79 in  NaN     NaN  ...   \n",
       "3   3.3 in x 3.3 in x 11.79 in  NaN     NaN  ...   \n",
       "4     1.0 in x 1.0 in x 1.0 in  NaN     NaN  ...   \n",
       "\n",
       "                          reviews.title reviews.userCity reviews.userProvince  \\\n",
       "0                My Favorite White Wine              NaN                  NaN   \n",
       "1                                 Yum!!              NaN                  NaN   \n",
       "2                       A New Favorite!              NaN                  NaN   \n",
       "3  Bold, Flavorful, Aromatic, Delicious              NaN                  NaN   \n",
       "4  Yum! Plus, Environmentally Friendly!    Overland Park                  NaN   \n",
       "\n",
       "  reviews.username sizes                                         sourceURLs  \\\n",
       "0              Bjh   NaN  http://redsky.target.com/v1/plp/search?kwr=y&c...   \n",
       "1             Wino   NaN  http://redsky.target.com/v1/plp/search?kwr=y&c...   \n",
       "2         Bama Mom   NaN  http://redsky.target.com/v1/plp/search?kwr=y&c...   \n",
       "3           Av Dub   NaN  http://redsky.target.com/v1/plp/search?kwr=y&c...   \n",
       "4       Chelseamay   NaN  https://redsky.target.com/groot-domain-api/v1/...   \n",
       "\n",
       "           upc    weight                                       cleaned_text  \\\n",
       "0   4.9213E+11   1.0 lbs                      fantastic white wine occasion   \n",
       "1  83120003441  2.45 lbs                    tart sweet refreshing delicious   \n",
       "2  82896001453  3.09 lbs  given wine delightful surprise find flavorful ...   \n",
       "3  82896001453  3.09 lbs                   phenomenal wine new favorite red   \n",
       "4  85200600465   1.0 lbs  ml bottles price two way less packaging yes pl...   \n",
       "\n",
       "                                      filtered_words  \n",
       "0                 [fantastic, white, wine, occasion]  \n",
       "1               [tart, sweet, refreshing, delicious]  \n",
       "2  [given, wine, delightful, surprise, find, flav...  \n",
       "3             [phenomenal, wine, new, favorite, red]  \n",
       "4  [ml, bottles, price, way, packaging, yes, plea...  \n",
       "\n",
       "[5 rows x 34 columns]"
      ]
     },
     "execution_count": 44,
     "metadata": {},
     "output_type": "execute_result"
    }
   ],
   "source": [
    "df.head()"
   ]
  },
  {
   "cell_type": "code",
   "execution_count": 45,
   "id": "9373929f",
   "metadata": {},
   "outputs": [
    {
     "data": {
      "text/html": [
       "<div>\n",
       "<style scoped>\n",
       "    .dataframe tbody tr th:only-of-type {\n",
       "        vertical-align: middle;\n",
       "    }\n",
       "\n",
       "    .dataframe tbody tr th {\n",
       "        vertical-align: top;\n",
       "    }\n",
       "\n",
       "    .dataframe thead th {\n",
       "        text-align: right;\n",
       "    }\n",
       "</style>\n",
       "<table border=\"1\" class=\"dataframe\">\n",
       "  <thead>\n",
       "    <tr style=\"text-align: right;\">\n",
       "      <th></th>\n",
       "      <th>reviews.rating</th>\n",
       "      <th>reviews.text</th>\n",
       "    </tr>\n",
       "  </thead>\n",
       "  <tbody>\n",
       "    <tr>\n",
       "      <th>0</th>\n",
       "      <td>5.0</td>\n",
       "      <td>this a fantastic white wine for any occasion</td>\n",
       "    </tr>\n",
       "    <tr>\n",
       "      <th>1</th>\n",
       "      <td>5.0</td>\n",
       "      <td>tart  not sweet very refreshing and delicious</td>\n",
       "    </tr>\n",
       "    <tr>\n",
       "      <th>2</th>\n",
       "      <td>5.0</td>\n",
       "      <td>i was given this wine so it was a delightful s...</td>\n",
       "    </tr>\n",
       "    <tr>\n",
       "      <th>3</th>\n",
       "      <td>5.0</td>\n",
       "      <td>this is a phenomenal wine and my new favorite red</td>\n",
       "    </tr>\n",
       "    <tr>\n",
       "      <th>4</th>\n",
       "      <td>5.0</td>\n",
       "      <td>ml bottles for the price of two with way les...</td>\n",
       "    </tr>\n",
       "    <tr>\n",
       "      <th>5</th>\n",
       "      <td>5.0</td>\n",
       "      <td>i love becks na  it tastes just like a regular...</td>\n",
       "    </tr>\n",
       "    <tr>\n",
       "      <th>6</th>\n",
       "      <td>3.0</td>\n",
       "      <td>this wine has a wonderful but strong aroma its...</td>\n",
       "    </tr>\n",
       "    <tr>\n",
       "      <th>7</th>\n",
       "      <td>2.0</td>\n",
       "      <td>i would give one more star if it came clean on...</td>\n",
       "    </tr>\n",
       "    <tr>\n",
       "      <th>8</th>\n",
       "      <td>5.0</td>\n",
       "      <td>delicious and very affordable</td>\n",
       "    </tr>\n",
       "    <tr>\n",
       "      <th>9</th>\n",
       "      <td>5.0</td>\n",
       "      <td>this is a very smooth red with aromas of cocoa...</td>\n",
       "    </tr>\n",
       "    <tr>\n",
       "      <th>10</th>\n",
       "      <td>5.0</td>\n",
       "      <td>based on positive reviews  i served all of the...</td>\n",
       "    </tr>\n",
       "    <tr>\n",
       "      <th>11</th>\n",
       "      <td>5.0</td>\n",
       "      <td>nice fruity and sweet taking sparkling wine  g...</td>\n",
       "    </tr>\n",
       "    <tr>\n",
       "      <th>12</th>\n",
       "      <td>5.0</td>\n",
       "      <td>a rich amber ale with a subtle but noticeable ...</td>\n",
       "    </tr>\n",
       "    <tr>\n",
       "      <th>13</th>\n",
       "      <td>5.0</td>\n",
       "      <td>this light bodied ipa is dry hopped with casca...</td>\n",
       "    </tr>\n",
       "    <tr>\n",
       "      <th>14</th>\n",
       "      <td>5.0</td>\n",
       "      <td>this light bodied ipa is dry hopped with casca...</td>\n",
       "    </tr>\n",
       "    <tr>\n",
       "      <th>15</th>\n",
       "      <td>5.0</td>\n",
       "      <td>great for a perfect summer day or a get togeth...</td>\n",
       "    </tr>\n",
       "    <tr>\n",
       "      <th>16</th>\n",
       "      <td>2.0</td>\n",
       "      <td>i m not sure if this is a bad bottle or if it ...</td>\n",
       "    </tr>\n",
       "    <tr>\n",
       "      <th>17</th>\n",
       "      <td>5.0</td>\n",
       "      <td>obsessed with this new drink however  it has b...</td>\n",
       "    </tr>\n",
       "    <tr>\n",
       "      <th>18</th>\n",
       "      <td>5.0</td>\n",
       "      <td>this is an excellent red wine  not to dry and ...</td>\n",
       "    </tr>\n",
       "    <tr>\n",
       "      <th>19</th>\n",
       "      <td>5.0</td>\n",
       "      <td>one of the best cabernets i had in quite sometime</td>\n",
       "    </tr>\n",
       "    <tr>\n",
       "      <th>20</th>\n",
       "      <td>5.0</td>\n",
       "      <td>this is a great buy for the price  someone had...</td>\n",
       "    </tr>\n",
       "    <tr>\n",
       "      <th>21</th>\n",
       "      <td>5.0</td>\n",
       "      <td>gluten free plus lower on calories plus very r...</td>\n",
       "    </tr>\n",
       "    <tr>\n",
       "      <th>22</th>\n",
       "      <td>5.0</td>\n",
       "      <td>best of the bunch of all of the wine cube sku ...</td>\n",
       "    </tr>\n",
       "    <tr>\n",
       "      <th>23</th>\n",
       "      <td>3.0</td>\n",
       "      <td>i like the wine and i like the idea of a seale...</td>\n",
       "    </tr>\n",
       "    <tr>\n",
       "      <th>24</th>\n",
       "      <td>5.0</td>\n",
       "      <td>i have tried my share of moscato d  astis befo...</td>\n",
       "    </tr>\n",
       "    <tr>\n",
       "      <th>25</th>\n",
       "      <td>5.0</td>\n",
       "      <td>highly  highly recommend  it s sweet but not s...</td>\n",
       "    </tr>\n",
       "    <tr>\n",
       "      <th>26</th>\n",
       "      <td>5.0</td>\n",
       "      <td>my favorite bottle design  the best cheap lager</td>\n",
       "    </tr>\n",
       "    <tr>\n",
       "      <th>27</th>\n",
       "      <td>5.0</td>\n",
       "      <td>delicious  i hate all the other flavors but th...</td>\n",
       "    </tr>\n",
       "    <tr>\n",
       "      <th>28</th>\n",
       "      <td>5.0</td>\n",
       "      <td>this wine is amazing  i m an avid wine drinker...</td>\n",
       "    </tr>\n",
       "    <tr>\n",
       "      <th>29</th>\n",
       "      <td>5.0</td>\n",
       "      <td>love it that it s not too dry or overly sweet ...</td>\n",
       "    </tr>\n",
       "  </tbody>\n",
       "</table>\n",
       "</div>"
      ],
      "text/plain": [
       "    reviews.rating                                       reviews.text\n",
       "0              5.0       this a fantastic white wine for any occasion\n",
       "1              5.0      tart  not sweet very refreshing and delicious\n",
       "2              5.0  i was given this wine so it was a delightful s...\n",
       "3              5.0  this is a phenomenal wine and my new favorite red\n",
       "4              5.0    ml bottles for the price of two with way les...\n",
       "5              5.0  i love becks na  it tastes just like a regular...\n",
       "6              3.0  this wine has a wonderful but strong aroma its...\n",
       "7              2.0  i would give one more star if it came clean on...\n",
       "8              5.0                      delicious and very affordable\n",
       "9              5.0  this is a very smooth red with aromas of cocoa...\n",
       "10             5.0  based on positive reviews  i served all of the...\n",
       "11             5.0  nice fruity and sweet taking sparkling wine  g...\n",
       "12             5.0  a rich amber ale with a subtle but noticeable ...\n",
       "13             5.0  this light bodied ipa is dry hopped with casca...\n",
       "14             5.0  this light bodied ipa is dry hopped with casca...\n",
       "15             5.0  great for a perfect summer day or a get togeth...\n",
       "16             2.0  i m not sure if this is a bad bottle or if it ...\n",
       "17             5.0  obsessed with this new drink however  it has b...\n",
       "18             5.0  this is an excellent red wine  not to dry and ...\n",
       "19             5.0  one of the best cabernets i had in quite sometime\n",
       "20             5.0  this is a great buy for the price  someone had...\n",
       "21             5.0  gluten free plus lower on calories plus very r...\n",
       "22             5.0  best of the bunch of all of the wine cube sku ...\n",
       "23             3.0  i like the wine and i like the idea of a seale...\n",
       "24             5.0  i have tried my share of moscato d  astis befo...\n",
       "25             5.0  highly  highly recommend  it s sweet but not s...\n",
       "26             5.0    my favorite bottle design  the best cheap lager\n",
       "27             5.0  delicious  i hate all the other flavors but th...\n",
       "28             5.0  this wine is amazing  i m an avid wine drinker...\n",
       "29             5.0  love it that it s not too dry or overly sweet ..."
      ]
     },
     "execution_count": 45,
     "metadata": {},
     "output_type": "execute_result"
    }
   ],
   "source": [
    "df = df[['reviews.rating','reviews.text']]\n",
    "df.head(30)"
   ]
  },
  {
   "cell_type": "code",
   "execution_count": 46,
   "id": "b95c1696",
   "metadata": {},
   "outputs": [
    {
     "data": {
      "text/plain": [
       "<Axes: >"
      ]
     },
     "execution_count": 46,
     "metadata": {},
     "output_type": "execute_result"
    },
    {
     "data": {
      "image/png": "[encoded data removed]",
      "text/plain": [
       "<Figure size 640x480 with 1 Axes>"
      ]
     },
     "metadata": {},
     "output_type": "display_data"
    }
   ],
   "source": [
    "df['reviews.rating'].hist()"
   ]
  },
  {
   "cell_type": "code",
   "execution_count": 47,
   "id": "1fa2810c",
   "metadata": {},
   "outputs": [],
   "source": [
    "def rating_to_label(rating):\n",
    "    if rating > 3:\n",
    "        return 1\n",
    "    else:\n",
    "        return 0\n",
    "    \n",
    "df['y'] = df['reviews.rating'].apply(lambda x: rating_to_label(x))"
   ]
  },
  {
   "cell_type": "code",
   "execution_count": 48,
   "id": "5d169aee",
   "metadata": {},
   "outputs": [
    {
     "data": {
      "text/html": [
       "<div>\n",
       "<style scoped>\n",
       "    .dataframe tbody tr th:only-of-type {\n",
       "        vertical-align: middle;\n",
       "    }\n",
       "\n",
       "    .dataframe tbody tr th {\n",
       "        vertical-align: top;\n",
       "    }\n",
       "\n",
       "    .dataframe thead th {\n",
       "        text-align: right;\n",
       "    }\n",
       "</style>\n",
       "<table border=\"1\" class=\"dataframe\">\n",
       "  <thead>\n",
       "    <tr style=\"text-align: right;\">\n",
       "      <th></th>\n",
       "      <th>reviews.rating</th>\n",
       "      <th>reviews.text</th>\n",
       "      <th>y</th>\n",
       "    </tr>\n",
       "  </thead>\n",
       "  <tbody>\n",
       "    <tr>\n",
       "      <th>0</th>\n",
       "      <td>5.0</td>\n",
       "      <td>this a fantastic white wine for any occasion</td>\n",
       "      <td>1</td>\n",
       "    </tr>\n",
       "    <tr>\n",
       "      <th>1</th>\n",
       "      <td>5.0</td>\n",
       "      <td>tart  not sweet very refreshing and delicious</td>\n",
       "      <td>1</td>\n",
       "    </tr>\n",
       "    <tr>\n",
       "      <th>2</th>\n",
       "      <td>5.0</td>\n",
       "      <td>i was given this wine so it was a delightful s...</td>\n",
       "      <td>1</td>\n",
       "    </tr>\n",
       "    <tr>\n",
       "      <th>3</th>\n",
       "      <td>5.0</td>\n",
       "      <td>this is a phenomenal wine and my new favorite red</td>\n",
       "      <td>1</td>\n",
       "    </tr>\n",
       "    <tr>\n",
       "      <th>4</th>\n",
       "      <td>5.0</td>\n",
       "      <td>ml bottles for the price of two with way les...</td>\n",
       "      <td>1</td>\n",
       "    </tr>\n",
       "  </tbody>\n",
       "</table>\n",
       "</div>"
      ],
      "text/plain": [
       "   reviews.rating                                       reviews.text  y\n",
       "0             5.0       this a fantastic white wine for any occasion  1\n",
       "1             5.0      tart  not sweet very refreshing and delicious  1\n",
       "2             5.0  i was given this wine so it was a delightful s...  1\n",
       "3             5.0  this is a phenomenal wine and my new favorite red  1\n",
       "4             5.0    ml bottles for the price of two with way les...  1"
      ]
     },
     "execution_count": 48,
     "metadata": {},
     "output_type": "execute_result"
    }
   ],
   "source": [
    "df.head()"
   ]
  },
  {
   "cell_type": "code",
   "execution_count": 49,
   "id": "33c92171",
   "metadata": {},
   "outputs": [
    {
     "data": {
      "text/plain": [
       "1    2268\n",
       "0     177\n",
       "Name: y, dtype: int64"
      ]
     },
     "execution_count": 49,
     "metadata": {},
     "output_type": "execute_result"
    }
   ],
   "source": [
    "df[\"y\"].value_counts()\n",
    "#모델의 Feature 변수는 리뷰에서 추출된 형태소와 그들의 중요도를 나타나는 tf_idf_vect로 대체"
   ]
  },
  {
   "cell_type": "markdown",
   "id": "bdb2903e",
   "metadata": {},
   "source": [
    "### 3.2 Training set / Test set 나누기"
   ]
  },
  {
   "cell_type": "code",
   "execution_count": 50,
   "id": "6957ffad",
   "metadata": {},
   "outputs": [],
   "source": [
    "from sklearn.model_selection import train_test_split\n",
    "\n",
    "x = tf_idf_vect\n",
    "y = df['y']\n",
    "x_train, x_test, y_train, y_test = train_test_split(x, y, test_size = 0.3, random_state=1)"
   ]
  },
  {
   "cell_type": "code",
   "execution_count": 51,
   "id": "f849a064",
   "metadata": {},
   "outputs": [
    {
     "data": {
      "text/plain": [
       "((1711, 4749), (1711,))"
      ]
     },
     "execution_count": 51,
     "metadata": {},
     "output_type": "execute_result"
    }
   ],
   "source": [
    "x_train.shape, y_train.shape"
   ]
  },
  {
   "cell_type": "code",
   "execution_count": 52,
   "id": "0b7a52f5",
   "metadata": {},
   "outputs": [
    {
     "data": {
      "text/plain": [
       "((734, 4749), (734,))"
      ]
     },
     "execution_count": 52,
     "metadata": {},
     "output_type": "execute_result"
    }
   ],
   "source": [
    "x_test.shape, y_test.shape"
   ]
  },
  {
   "cell_type": "markdown",
   "id": "1e039459",
   "metadata": {},
   "source": [
    "### 3.3 모델 학습\n",
    "Logistic Regression 모델 학습"
   ]
  },
  {
   "cell_type": "code",
   "execution_count": 53,
   "id": "020a2bc5",
   "metadata": {},
   "outputs": [],
   "source": [
    "from sklearn.linear_model import LogisticRegression\n",
    "from sklearn.metrics import accuracy_score, precision_score, recall_score, f1_score\n",
    "\n",
    "# fit in training set\n",
    "lr = LogisticRegression(random_state = 0)\n",
    "lr.fit(x_train, y_train)\n",
    "\n",
    "# predict in test set\n",
    "y_pred = lr.predict(x_test)"
   ]
  },
  {
   "cell_type": "markdown",
   "id": "2d022fba",
   "metadata": {},
   "source": [
    "## | 4. 모델 평가"
   ]
  },
  {
   "cell_type": "code",
   "execution_count": 54,
   "id": "832d9fd7",
   "metadata": {},
   "outputs": [
    {
     "name": "stdout",
     "output_type": "stream",
     "text": [
      "accuracy: 0.93\n",
      "precision: 0.93\n",
      "recall: 1.00\n",
      "F1: 0.96\n"
     ]
    }
   ],
   "source": [
    "# 테스트 세트의 분류 결과\n",
    "\n",
    "print('accuracy: %.2f' % accuracy_score(y_test, y_pred))\n",
    "print('precision: %.2f' % precision_score(y_test, y_pred))\n",
    "print('recall: %.2f' % recall_score(y_test, y_pred))\n",
    "print('F1: %.2f' % f1_score(y_test, y_pred))"
   ]
  },
  {
   "cell_type": "code",
   "execution_count": 55,
   "id": "dc7d608d",
   "metadata": {},
   "outputs": [
    {
     "data": {
      "image/png": "[encoded data removed]",
      "text/plain": [
       "<Figure size 1000x700 with 2 Axes>"
      ]
     },
     "metadata": {},
     "output_type": "display_data"
    }
   ],
   "source": [
    "# confusion matrix\n",
    "\n",
    "conf_matrix = confusion_matrix(y_test, y_pred)\n",
    "plt.figure(figsize=(10, 7))\n",
    "sns.heatmap(conf_matrix, annot=True, fmt='d', cmap='Blues')\n",
    "plt.xlabel('Predicted')\n",
    "plt.ylabel('Actual')\n",
    "plt.title('Confusion Matrix')\n",
    "plt.show()"
   ]
  },
  {
   "cell_type": "markdown",
   "id": "add24da9",
   "metadata": {},
   "source": [
    "- 실제 클래스 0, 예측 클래스 0: 0 (True Negative, TN)\n",
    "- 실제 클래스 0, 예측 클래스 1: 53 (False Positive, FP)\n",
    "- 실제 클래스 1, 예측 클래스 0: 0 (False Negative, FN)\n",
    "- 실제 클래스 1, 예측 클래스 1: 681 (True Positive, TP)\n",
    "\n",
    "모델 평과 결과를 살펴볼 때 지나치게 긍정으로면 예측하는 경향이 있음, 부정 감정에 대한 예측 정확도가 매우 낮기 때문에 '클래스 불균형 조정'을 시도해야함"
   ]
  },
  {
   "cell_type": "markdown",
   "id": "369f1df6",
   "metadata": {},
   "source": [
    "### 4.1 샘플링 재조정"
   ]
  },
  {
   "cell_type": "code",
   "execution_count": 56,
   "id": "00ab318e",
   "metadata": {},
   "outputs": [],
   "source": [
    "import pandas as pd\n",
    "from sklearn.feature_extraction.text import TfidfVectorizer\n",
    "from sklearn.model_selection import train_test_split"
   ]
  },
  {
   "cell_type": "code",
   "execution_count": 57,
   "id": "2502d0c7",
   "metadata": {},
   "outputs": [],
   "source": [
    "# tf-idf 벡터 생성 (실제 tf_idf_vect가 이미 존재한다고 가정)\n",
    "tfidf_vect = TfidfVectorizer()\n",
    "tf_idf_vect = tfidf_vect.fit_transform(df['reviews.text'])"
   ]
  },
  {
   "cell_type": "code",
   "execution_count": 58,
   "id": "c0f10bce",
   "metadata": {},
   "outputs": [],
   "source": [
    "# 'y' 값이 1인 인덱스와 0인 인덱스를 적절히 샘플링\n",
    "positive_random_idx = df[df['y'] == 1].sample(min(len(df[df['y'] == 1]), 100), random_state=12).index.tolist()\n",
    "negative_random_idx = df[df['y'] == 0].sample(min(len(df[df['y'] == 0]), 100), random_state=12).index.tolist()"
   ]
  },
  {
   "cell_type": "code",
   "execution_count": 59,
   "id": "8d88cdc4",
   "metadata": {},
   "outputs": [],
   "source": [
    "# 샘플링한 인덱스들을 합침\n",
    "random_idx = positive_random_idx + negative_random_idx"
   ]
  },
  {
   "cell_type": "code",
   "execution_count": 60,
   "id": "5d28e9bd",
   "metadata": {},
   "outputs": [
    {
     "name": "stdout",
     "output_type": "stream",
     "text": [
      "random_idx: [164, 2527, 1349, 691, 2460, 1021, 1604, 2451, 1336, 1861, 1778, 244, 1317, 256, 1479, 2044, 74, 1181, 2412, 580, 2056, 962, 2391, 2398, 1825, 1128, 807, 271, 615, 2198, 2013, 2007, 525, 1214, 1741, 1788, 2015, 2082, 2352, 212, 153, 534, 2484, 2073, 2292, 1256, 1989, 1121, 278, 1325, 1118, 688, 618, 1937, 1250, 2610, 1259, 1038, 1414, 2429, 1562, 2567, 2068, 206, 82, 257, 2597, 1397, 265, 1631, 1059, 2126, 1042, 161, 447, 2196, 1462, 2863, 2599, 1421, 2239, 1160, 2839, 2582, 1831, 2211, 2267, 2207, 1944, 466, 2618, 2229, 1135, 505, 2182, 2006, 2301, 2411, 1977, 461, 1441, 1166, 114, 1920, 511, 818, 376, 2845, 820, 901, 1503, 1447, 2874, 44, 821, 2861, 211, 223, 1429, 2678, 1756, 2506, 2786, 1073, 1435, 122, 2809, 2879, 2851, 219, 7, 1270, 233, 2875, 2880, 69, 816, 1258, 2461, 286, 250, 883, 1833, 2866, 2737, 2789, 1123, 1390, 2739, 1452, 814, 677, 1091, 709, 2855, 2295, 1358, 1113, 512, 972, 322, 1417, 2444, 1971, 2795, 1605, 2557, 2740, 1339, 2796, 1432, 581, 1209, 179, 884, 811, 2871, 651, 2369, 1207, 2805, 1362, 1013, 1434, 934, 1438, 16, 632, 2780, 2579, 178, 2862, 2872, 2869, 2766, 2702, 2741, 2525, 1045, 1415]\n",
      "tf_idf_vect.shape: (2445, 5029)\n"
     ]
    }
   ],
   "source": [
    "# 인덱스가 범위 내에 있는지 확인\n",
    "print(f\"random_idx: {random_idx}\")\n",
    "print(f\"tf_idf_vect.shape: {tf_idf_vect.shape}\")"
   ]
  },
  {
   "cell_type": "code",
   "execution_count": 61,
   "id": "6ff73211",
   "metadata": {},
   "outputs": [],
   "source": [
    "# 범위 내의 인덱스만 선택\n",
    "valid_random_idx = [idx for idx in random_idx if idx < tf_idf_vect.shape[0]]"
   ]
  },
  {
   "cell_type": "code",
   "execution_count": 62,
   "id": "8d6f70fe",
   "metadata": {},
   "outputs": [],
   "source": [
    "# x와 y를 인덱스를 기준으로 선택\n",
    "x = tf_idf_vect[valid_random_idx]\n",
    "y = df['y'].iloc[valid_random_idx].values"
   ]
  },
  {
   "cell_type": "code",
   "execution_count": 63,
   "id": "1667892a",
   "metadata": {},
   "outputs": [],
   "source": [
    "# train/test 데이터셋 분리\n",
    "x_train, x_test, y_train, y_test = train_test_split(x, y, test_size=0.25, random_state=1)"
   ]
  },
  {
   "cell_type": "code",
   "execution_count": 64,
   "id": "af81bd5e",
   "metadata": {},
   "outputs": [
    {
     "name": "stdout",
     "output_type": "stream",
     "text": [
      "x_train shape: (117, 5029)\n",
      "x_test shape: (39, 5029)\n",
      "y_train shape: (117,)\n",
      "y_test shape: (39,)\n"
     ]
    }
   ],
   "source": [
    "print(f\"x_train shape: {x_train.shape}\")\n",
    "print(f\"x_test shape: {x_test.shape}\")\n",
    "print(f\"y_train shape: {y_train.shape}\")\n",
    "print(f\"y_test shape: {y_test.shape}\")"
   ]
  },
  {
   "cell_type": "markdown",
   "id": "96761582",
   "metadata": {},
   "source": [
    "### 4.2 모델 재학습"
   ]
  },
  {
   "cell_type": "code",
   "execution_count": 65,
   "id": "8750e4f3",
   "metadata": {},
   "outputs": [],
   "source": [
    "lr2 = LogisticRegression(random_state = 0)\n",
    "lr2.fit(x_train, y_train)\n",
    "y_pred = lr2.predict(x_test)"
   ]
  },
  {
   "cell_type": "code",
   "execution_count": 66,
   "id": "06dee50b",
   "metadata": {},
   "outputs": [
    {
     "name": "stdout",
     "output_type": "stream",
     "text": [
      "accuracy: 0.90\n",
      "precision: 0.90\n",
      "recall: 1.00\n",
      "F1: 0.95\n"
     ]
    }
   ],
   "source": [
    "# classification result for test set\n",
    "\n",
    "print('accuracy: %.2f' % accuracy_score(y_test, y_pred))\n",
    "print('precision: %.2f' % precision_score(y_test, y_pred))\n",
    "print('recall: %.2f' % recall_score(y_test, y_pred))\n",
    "print('F1: %.2f' % f1_score(y_test, y_pred))"
   ]
  },
  {
   "cell_type": "markdown",
   "id": "e2b21007",
   "metadata": {},
   "source": [
    "## | 5. 시각화\n",
    "### 결과 시각화"
   ]
  },
  {
   "cell_type": "code",
   "execution_count": 67,
   "id": "c20e86b7",
   "metadata": {},
   "outputs": [
    {
     "data": {
      "image/png": "[encoded data removed]",
      "text/plain": [
       "<Figure size 1000x700 with 2 Axes>"
      ]
     },
     "metadata": {},
     "output_type": "display_data"
    }
   ],
   "source": [
    "# confusion matrix\n",
    "\n",
    "from sklearn.metrics import confusion_matrix\n",
    "\n",
    "confu = confusion_matrix(y_true = y_test, y_pred = y_pred)\n",
    "\n",
    "plt.figure(figsize=(10, 7))\n",
    "sns.heatmap(confu, annot=True, annot_kws={'size':15}, cmap='Blues', fmt='.10g')\n",
    "plt.title('Confusion Matrix')\n",
    "plt.show()"
   ]
  },
  {
   "cell_type": "markdown",
   "id": "55fcf3d6",
   "metadata": {},
   "source": [
    "- 실제 클래스 0, 예측 클래스 0: 0 (True Negative, TN)\n",
    "- 실제 클래스 0, 예측 클래스 1: 4 (False Positive, FP)\n",
    "- 실제 클래스 1, 예측 클래스 0: 0 (False Negative, FN)\n",
    "- 실제 클래스 1, 예측 클래스 1: 35 (True Positive, TP)"
   ]
  },
  {
   "cell_type": "code",
   "execution_count": 68,
   "id": "52975634",
   "metadata": {},
   "outputs": [
    {
     "data": {
      "text/html": [
       "<style>#sk-container-id-1 {color: black;background-color: white;}#sk-container-id-1 pre{padding: 0;}#sk-container-id-1 div.sk-toggleable {background-color: white;}#sk-container-id-1 label.sk-toggleable__label {cursor: pointer;display: block;width: 100%;margin-bottom: 0;padding: 0.3em;box-sizing: border-box;text-align: center;}#sk-container-id-1 label.sk-toggleable__label-arrow:before {content: \"▸\";float: left;margin-right: 0.25em;color: #696969;}#sk-container-id-1 label.sk-toggleable__label-arrow:hover:before {color: black;}#sk-container-id-1 div.sk-estimator:hover label.sk-toggleable__label-arrow:before {color: black;}#sk-container-id-1 div.sk-toggleable__content {max-height: 0;max-width: 0;overflow: hidden;text-align: left;background-color: #f0f8ff;}#sk-container-id-1 div.sk-toggleable__content pre {margin: 0.2em;color: black;border-radius: 0.25em;background-color: #f0f8ff;}#sk-container-id-1 input.sk-toggleable__control:checked~div.sk-toggleable__content {max-height: 200px;max-width: 100%;overflow: auto;}#sk-container-id-1 input.sk-toggleable__control:checked~label.sk-toggleable__label-arrow:before {content: \"▾\";}#sk-container-id-1 div.sk-estimator input.sk-toggleable__control:checked~label.sk-toggleable__label {background-color: #d4ebff;}#sk-container-id-1 div.sk-label input.sk-toggleable__control:checked~label.sk-toggleable__label {background-color: #d4ebff;}#sk-container-id-1 input.sk-hidden--visually {border: 0;clip: rect(1px 1px 1px 1px);clip: rect(1px, 1px, 1px, 1px);height: 1px;margin: -1px;overflow: hidden;padding: 0;position: absolute;width: 1px;}#sk-container-id-1 div.sk-estimator {font-family: monospace;background-color: #f0f8ff;border: 1px dotted black;border-radius: 0.25em;box-sizing: border-box;margin-bottom: 0.5em;}#sk-container-id-1 div.sk-estimator:hover {background-color: #d4ebff;}#sk-container-id-1 div.sk-parallel-item::after {content: \"\";width: 100%;border-bottom: 1px solid gray;flex-grow: 1;}#sk-container-id-1 div.sk-label:hover label.sk-toggleable__label {background-color: #d4ebff;}#sk-container-id-1 div.sk-serial::before {content: \"\";position: absolute;border-left: 1px solid gray;box-sizing: border-box;top: 0;bottom: 0;left: 50%;z-index: 0;}#sk-container-id-1 div.sk-serial {display: flex;flex-direction: column;align-items: center;background-color: white;padding-right: 0.2em;padding-left: 0.2em;position: relative;}#sk-container-id-1 div.sk-item {position: relative;z-index: 1;}#sk-container-id-1 div.sk-parallel {display: flex;align-items: stretch;justify-content: center;background-color: white;position: relative;}#sk-container-id-1 div.sk-item::before, #sk-container-id-1 div.sk-parallel-item::before {content: \"\";position: absolute;border-left: 1px solid gray;box-sizing: border-box;top: 0;bottom: 0;left: 50%;z-index: -1;}#sk-container-id-1 div.sk-parallel-item {display: flex;flex-direction: column;z-index: 1;position: relative;background-color: white;}#sk-container-id-1 div.sk-parallel-item:first-child::after {align-self: flex-end;width: 50%;}#sk-container-id-1 div.sk-parallel-item:last-child::after {align-self: flex-start;width: 50%;}#sk-container-id-1 div.sk-parallel-item:only-child::after {width: 0;}#sk-container-id-1 div.sk-dashed-wrapped {border: 1px dashed gray;margin: 0 0.4em 0.5em 0.4em;box-sizing: border-box;padding-bottom: 0.4em;background-color: white;}#sk-container-id-1 div.sk-label label {font-family: monospace;font-weight: bold;display: inline-block;line-height: 1.2em;}#sk-container-id-1 div.sk-label-container {text-align: center;}#sk-container-id-1 div.sk-container {/* jupyter's `normalize.less` sets `[hidden] { display: none; }` but bootstrap.min.css set `[hidden] { display: none !important; }` so we also need the `!important` here to be able to override the default hidden behavior on the sphinx rendered scikit-learn.org. See: https://github.com/scikit-learn/scikit-learn/issues/21755 */display: inline-block !important;position: relative;}#sk-container-id-1 div.sk-text-repr-fallback {display: none;}</style><div id=\"sk-container-id-1\" class=\"sk-top-container\"><div class=\"sk-text-repr-fallback\"><pre>LogisticRegression()</pre><b>In a Jupyter environment, please rerun this cell to show the HTML representation or trust the notebook. <br />On GitHub, the HTML representation is unable to render, please try loading this page with nbviewer.org.</b></div><div class=\"sk-container\" hidden><div class=\"sk-item\"><div class=\"sk-estimator sk-toggleable\"><input class=\"sk-toggleable__control sk-hidden--visually\" id=\"sk-estimator-id-1\" type=\"checkbox\" checked><label for=\"sk-estimator-id-1\" class=\"sk-toggleable__label sk-toggleable__label-arrow\">LogisticRegression</label><div class=\"sk-toggleable__content\"><pre>LogisticRegression()</pre></div></div></div></div></div>"
      ],
      "text/plain": [
       "LogisticRegression()"
      ]
     },
     "execution_count": 68,
     "metadata": {},
     "output_type": "execute_result"
    }
   ],
   "source": [
    "# 모델 학습\n",
    "model = LogisticRegression()\n",
    "model.fit(x_train, y_train)"
   ]
  },
  {
   "cell_type": "code",
   "execution_count": 69,
   "id": "86837d25",
   "metadata": {},
   "outputs": [],
   "source": [
    "# 예측 확률 계산\n",
    "y_probs = model.predict_proba(x_test)[:, 1]"
   ]
  },
  {
   "cell_type": "code",
   "execution_count": 70,
   "id": "a6f94a73",
   "metadata": {},
   "outputs": [],
   "source": [
    "# ROC 곡선 계산\n",
    "fpr, tpr, _ = roc_curve(y_test, y_probs)\n",
    "roc_auc = auc(fpr, tpr)"
   ]
  },
  {
   "cell_type": "code",
   "execution_count": 71,
   "id": "011d7223",
   "metadata": {},
   "outputs": [
    {
     "data": {
      "image/png": "[encoded data removed]",
      "text/plain": [
       "<Figure size 640x480 with 1 Axes>"
      ]
     },
     "metadata": {},
     "output_type": "display_data"
    }
   ],
   "source": [
    "# ROC 곡선 시각화\n",
    "plt.figure()\n",
    "plt.plot(fpr, tpr, color='darkorange', lw=2, label=f'ROC curve (area = {roc_auc:.2f})')\n",
    "plt.plot([0, 1], [0, 1], color='navy', lw=2, linestyle='--')\n",
    "plt.xlim([0.0, 1.0])\n",
    "plt.ylim([0.0, 1.05])\n",
    "plt.xlabel('False Positive Rate')\n",
    "plt.ylabel('True Positive Rate')\n",
    "plt.title('Receiver Operating Characteristic (ROC)')\n",
    "plt.legend(loc='lower right')\n",
    "plt.show()"
   ]
  },
  {
   "cell_type": "markdown",
   "id": "cf478470",
   "metadata": {},
   "source": [
    "모델의 AUC가 0.80으로 비교적 좋은 성능을 나타내고 있음을 확인."
   ]
  }
 ],
 "metadata": {
  "kernelspec": {
   "display_name": "Python 3 (ipykernel)",
   "language": "python",
   "name": "python3"
  },
  "language_info": {
   "codemirror_mode": {
    "name": "ipython",
    "version": 3
   },
   "file_extension": ".py",
   "mimetype": "text/x-python",
   "name": "python",
   "nbconvert_exporter": "python",
   "pygments_lexer": "ipython3",
   "version": "3.10.9"
  }
 },
 "nbformat": 4,
 "nbformat_minor": 5
}
